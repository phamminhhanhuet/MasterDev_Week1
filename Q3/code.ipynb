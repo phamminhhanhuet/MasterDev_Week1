{
 "cells": [
  {
   "cell_type": "code",
   "execution_count": 6,
   "id": "dc219c86",
   "metadata": {},
   "outputs": [],
   "source": [
    "from pandas import read_csv\n",
    "from numpy import set_printoptions\n",
    "import numpy as np\n",
    "from matplotlib import pyplot as plt\n",
    "\n",
    "from sklearn.feature_selection import SelectKBest\n",
    "from sklearn.feature_selection import chi2\n",
    "from sklearn.model_selection import train_test_split\n",
    "from sklearn.model_selection import KFold\n",
    "from sklearn.model_selection import cross_val_score\n",
    "from sklearn.metrics import accuracy_score\n",
    "from sklearn.metrics import classification_report\n",
    "from sklearn.metrics import confusion_matrix\n",
    "from sklearn.linear_model import LogisticRegression\n",
    "from sklearn.tree import DecisionTreeClassifier\n",
    "from sklearn.neighbors import KNeighborsClassifier\n",
    "from sklearn.discriminant_analysis import LinearDiscriminantAnalysis\n",
    "from sklearn.naive_bayes import GaussianNB\n",
    "from sklearn.svm import SVC\n",
    "\n",
    "from random import seed, randrange\n",
    "import csv"
   ]
  },
  {
   "cell_type": "code",
   "execution_count": 7,
   "id": "15fed3ae",
   "metadata": {},
   "outputs": [],
   "source": [
    "filename = 'D:\\Python\\pima-indians-data.csv'\n",
    "names = ['preg', 'plas', 'pres', 'skin', 'test', 'mass', 'pedi', 'age', 'class']\n",
    "dataframe = read_csv(filename, names=names)\n",
    "array = dataframe.values\n",
    "X = array[:,0:8]\n",
    "Y = array[:, 8]"
   ]
  },
  {
   "cell_type": "code",
   "execution_count": 8,
   "id": "5c12f3a6",
   "metadata": {},
   "outputs": [],
   "source": [
    "seed(42)\n",
    "validation_size = 0.2\n",
    "seed = 7\n",
    "X_train, X_validation, Y_train, Y_validation = train_test_split(X, Y, test_size = validation_size, random_state = seed)"
   ]
  },
  {
   "cell_type": "code",
   "execution_count": 14,
   "id": "5bb1f6f7",
   "metadata": {},
   "outputs": [],
   "source": [
    "def indexed_combination(seq, n):\n",
    "    results = []\n",
    "    for u in seq:\n",
    "        if n & 1:\n",
    "            results.append(u)\n",
    "        n >>=1\n",
    "        if not n:\n",
    "            break\n",
    "    return results"
   ]
  },
  {
   "cell_type": "code",
   "execution_count": 15,
   "id": "1cbc4797",
   "metadata": {},
   "outputs": [],
   "source": [
    "seq = [0, 1, 2, 3, 4, 5, 6, 7]"
   ]
  },
  {
   "cell_type": "code",
   "execution_count": 16,
   "id": "5f0f6b58",
   "metadata": {},
   "outputs": [
    {
     "name": "stdout",
     "output_type": "stream",
     "text": [
      "(154, 1)\n",
      "(154, 1)\n",
      "(154, 2)\n",
      "(154, 1)\n",
      "(154, 2)\n",
      "(154, 2)\n",
      "(154, 3)\n",
      "(154, 1)\n",
      "(154, 2)\n",
      "(154, 2)\n",
      "(154, 3)\n",
      "(154, 2)\n",
      "(154, 3)\n",
      "(154, 3)\n",
      "(154, 4)\n",
      "(154, 1)\n",
      "(154, 2)\n",
      "(154, 2)\n",
      "(154, 3)\n",
      "(154, 2)\n",
      "(154, 3)\n",
      "(154, 3)\n",
      "(154, 4)\n",
      "(154, 2)\n",
      "(154, 3)\n",
      "(154, 3)\n",
      "(154, 4)\n",
      "(154, 3)\n",
      "(154, 4)\n",
      "(154, 4)\n",
      "(154, 5)\n",
      "(154, 1)\n",
      "(154, 2)\n",
      "(154, 2)\n",
      "(154, 3)\n",
      "(154, 2)\n",
      "(154, 3)\n",
      "(154, 3)\n",
      "(154, 4)\n",
      "(154, 2)\n",
      "(154, 3)\n",
      "(154, 3)\n",
      "(154, 4)\n",
      "(154, 3)\n",
      "(154, 4)\n",
      "(154, 4)\n",
      "(154, 5)\n",
      "(154, 2)\n",
      "(154, 3)\n",
      "(154, 3)\n",
      "(154, 4)\n",
      "(154, 3)\n",
      "(154, 4)\n",
      "(154, 4)\n",
      "(154, 5)\n",
      "(154, 3)\n",
      "(154, 4)\n",
      "(154, 4)\n",
      "(154, 5)\n",
      "(154, 4)\n",
      "(154, 5)\n",
      "(154, 5)\n",
      "(154, 6)\n",
      "(154, 1)\n",
      "(154, 2)\n",
      "(154, 2)\n",
      "(154, 3)\n",
      "(154, 2)\n",
      "(154, 3)\n",
      "(154, 3)\n",
      "(154, 4)\n",
      "(154, 2)\n",
      "(154, 3)\n",
      "(154, 3)\n",
      "(154, 4)\n",
      "(154, 3)\n",
      "(154, 4)\n",
      "(154, 4)\n",
      "(154, 5)\n",
      "(154, 2)\n",
      "(154, 3)\n",
      "(154, 3)\n",
      "(154, 4)\n",
      "(154, 3)\n",
      "(154, 4)\n",
      "(154, 4)\n",
      "(154, 5)\n",
      "(154, 3)\n",
      "(154, 4)\n",
      "(154, 4)\n",
      "(154, 5)\n",
      "(154, 4)\n",
      "(154, 5)\n",
      "(154, 5)\n",
      "(154, 6)\n",
      "(154, 2)\n",
      "(154, 3)\n",
      "(154, 3)\n",
      "(154, 4)\n",
      "(154, 3)\n",
      "(154, 4)\n",
      "(154, 4)\n",
      "(154, 5)\n",
      "(154, 3)\n",
      "(154, 4)\n",
      "(154, 4)\n",
      "(154, 5)\n",
      "(154, 4)\n",
      "(154, 5)\n",
      "(154, 5)\n",
      "(154, 6)\n",
      "(154, 3)\n",
      "(154, 4)\n",
      "(154, 4)\n",
      "(154, 5)\n",
      "(154, 4)\n",
      "(154, 5)\n",
      "(154, 5)\n",
      "(154, 6)\n",
      "(154, 4)\n",
      "(154, 5)\n",
      "(154, 5)\n",
      "(154, 6)\n",
      "(154, 5)\n",
      "(154, 6)\n",
      "(154, 6)\n",
      "(154, 7)\n",
      "(154, 1)\n",
      "(154, 2)\n",
      "(154, 2)\n",
      "(154, 3)\n",
      "(154, 2)\n",
      "(154, 3)\n",
      "(154, 3)\n",
      "(154, 4)\n",
      "(154, 2)\n",
      "(154, 3)\n",
      "(154, 3)\n",
      "(154, 4)\n",
      "(154, 3)\n",
      "(154, 4)\n",
      "(154, 4)\n",
      "(154, 5)\n",
      "(154, 2)\n",
      "(154, 3)\n",
      "(154, 3)\n",
      "(154, 4)\n",
      "(154, 3)\n",
      "(154, 4)\n",
      "(154, 4)\n",
      "(154, 5)\n",
      "(154, 3)\n",
      "(154, 4)\n",
      "(154, 4)\n",
      "(154, 5)\n",
      "(154, 4)\n",
      "(154, 5)\n",
      "(154, 5)\n",
      "(154, 6)\n",
      "(154, 2)\n",
      "(154, 3)\n",
      "(154, 3)\n",
      "(154, 4)\n",
      "(154, 3)\n",
      "(154, 4)\n",
      "(154, 4)\n",
      "(154, 5)\n",
      "(154, 3)\n",
      "(154, 4)\n",
      "(154, 4)\n",
      "(154, 5)\n",
      "(154, 4)\n",
      "(154, 5)\n",
      "(154, 5)\n",
      "(154, 6)\n",
      "(154, 3)\n",
      "(154, 4)\n",
      "(154, 4)\n",
      "(154, 5)\n",
      "(154, 4)\n",
      "(154, 5)\n",
      "(154, 5)\n",
      "(154, 6)\n",
      "(154, 4)\n",
      "(154, 5)\n",
      "(154, 5)\n",
      "(154, 6)\n",
      "(154, 5)\n",
      "(154, 6)\n",
      "(154, 6)\n",
      "(154, 7)\n",
      "(154, 2)\n",
      "(154, 3)\n",
      "(154, 3)\n",
      "(154, 4)\n",
      "(154, 3)\n",
      "(154, 4)\n",
      "(154, 4)\n",
      "(154, 5)\n",
      "(154, 3)\n",
      "(154, 4)\n",
      "(154, 4)\n",
      "(154, 5)\n",
      "(154, 4)\n",
      "(154, 5)\n",
      "(154, 5)\n",
      "(154, 6)\n",
      "(154, 3)\n",
      "(154, 4)\n",
      "(154, 4)\n",
      "(154, 5)\n",
      "(154, 4)\n",
      "(154, 5)\n",
      "(154, 5)\n",
      "(154, 6)\n",
      "(154, 4)\n",
      "(154, 5)\n",
      "(154, 5)\n",
      "(154, 6)\n",
      "(154, 5)\n",
      "(154, 6)\n",
      "(154, 6)\n",
      "(154, 7)\n"
     ]
    },
    {
     "name": "stderr",
     "output_type": "stream",
     "text": [
      "C:\\Users\\Admin\\anaconda3\\lib\\site-packages\\sklearn\\linear_model\\_logistic.py:763: ConvergenceWarning: lbfgs failed to converge (status=1):\n",
      "STOP: TOTAL NO. of ITERATIONS REACHED LIMIT.\n",
      "\n",
      "Increase the number of iterations (max_iter) or scale the data as shown in:\n",
      "    https://scikit-learn.org/stable/modules/preprocessing.html\n",
      "Please also refer to the documentation for alternative solver options:\n",
      "    https://scikit-learn.org/stable/modules/linear_model.html#logistic-regression\n",
      "  n_iter_i = _check_optimize_result(\n"
     ]
    },
    {
     "name": "stdout",
     "output_type": "stream",
     "text": [
      "(154, 3)\n",
      "(154, 4)\n",
      "(154, 4)\n",
      "(154, 5)\n",
      "(154, 4)\n",
      "(154, 5)\n",
      "(154, 5)\n",
      "(154, 6)\n",
      "(154, 4)\n",
      "(154, 5)\n",
      "(154, 5)\n",
      "(154, 6)\n",
      "(154, 5)\n",
      "(154, 6)\n",
      "(154, 6)\n",
      "(154, 7)\n",
      "(154, 4)\n",
      "(154, 5)\n",
      "(154, 5)\n",
      "(154, 6)\n",
      "(154, 5)\n",
      "(154, 6)\n",
      "(154, 6)\n",
      "(154, 7)\n",
      "(154, 5)\n"
     ]
    },
    {
     "name": "stderr",
     "output_type": "stream",
     "text": [
      "C:\\Users\\Admin\\anaconda3\\lib\\site-packages\\sklearn\\linear_model\\_logistic.py:763: ConvergenceWarning: lbfgs failed to converge (status=1):\n",
      "STOP: TOTAL NO. of ITERATIONS REACHED LIMIT.\n",
      "\n",
      "Increase the number of iterations (max_iter) or scale the data as shown in:\n",
      "    https://scikit-learn.org/stable/modules/preprocessing.html\n",
      "Please also refer to the documentation for alternative solver options:\n",
      "    https://scikit-learn.org/stable/modules/linear_model.html#logistic-regression\n",
      "  n_iter_i = _check_optimize_result(\n"
     ]
    },
    {
     "name": "stdout",
     "output_type": "stream",
     "text": [
      "(154, 6)\n",
      "(154, 6)\n",
      "(154, 7)\n",
      "(154, 6)\n"
     ]
    },
    {
     "name": "stderr",
     "output_type": "stream",
     "text": [
      "C:\\Users\\Admin\\anaconda3\\lib\\site-packages\\sklearn\\linear_model\\_logistic.py:763: ConvergenceWarning: lbfgs failed to converge (status=1):\n",
      "STOP: TOTAL NO. of ITERATIONS REACHED LIMIT.\n",
      "\n",
      "Increase the number of iterations (max_iter) or scale the data as shown in:\n",
      "    https://scikit-learn.org/stable/modules/preprocessing.html\n",
      "Please also refer to the documentation for alternative solver options:\n",
      "    https://scikit-learn.org/stable/modules/linear_model.html#logistic-regression\n",
      "  n_iter_i = _check_optimize_result(\n"
     ]
    },
    {
     "name": "stdout",
     "output_type": "stream",
     "text": [
      "(154, 7)\n",
      "(154, 7)\n",
      "(154, 8)\n"
     ]
    },
    {
     "name": "stderr",
     "output_type": "stream",
     "text": [
      "C:\\Users\\Admin\\anaconda3\\lib\\site-packages\\sklearn\\linear_model\\_logistic.py:763: ConvergenceWarning: lbfgs failed to converge (status=1):\n",
      "STOP: TOTAL NO. of ITERATIONS REACHED LIMIT.\n",
      "\n",
      "Increase the number of iterations (max_iter) or scale the data as shown in:\n",
      "    https://scikit-learn.org/stable/modules/preprocessing.html\n",
      "Please also refer to the documentation for alternative solver options:\n",
      "    https://scikit-learn.org/stable/modules/linear_model.html#logistic-regression\n",
      "  n_iter_i = _check_optimize_result(\n"
     ]
    }
   ],
   "source": [
    "for i in range(1 <<len(seq)):\n",
    "    com = indexed_combination(seq, i)\n",
    "    k_features = len(com)\n",
    "    if k_features ==0:\n",
    "        continue\n",
    "    \n",
    "    features = []\n",
    "    for obs in X_train:\n",
    "        f = []\n",
    "        for i in range(len(com)):\n",
    "            f.append(obs[com[i]])\n",
    "        features.append(f)\n",
    "    \n",
    "    feature_validation = []\n",
    "    for obs in X_validation:\n",
    "        f = []\n",
    "        for i in range(len(com)):\n",
    "            f.append(obs[com[i]])\n",
    "        feature_validation.append(f)\n",
    "        \n",
    "    feature_validation = np.array(feature_validation)\n",
    "    print(feature_validation.shape)\n",
    "    \n",
    "    \n",
    "    models = []\n",
    "    models.append(LogisticRegression())\n",
    "    models.append(LinearDiscriminantAnalysis())\n",
    "    models.append(KNeighborsClassifier())\n",
    "    models.append( DecisionTreeClassifier())\n",
    "    models.append(GaussianNB())\n",
    "    models.append( SVC())\n",
    "\n",
    "    \n",
    "    \n",
    "    for model in models:\n",
    "        model.fit(features, Y_train)\n",
    "        predictions = model.predict(feature_validation)\n",
    "        accuracy = accuracy_score(Y_validation, predictions)\n",
    "        #print(accuracy_score(Y_validation, predictions))\n",
    "        #print(confusion_matrix(Y_validation, predictions))\n",
    "        #print(classification_report(Y_validation,predictions))\n",
    "        \n",
    "        f_obs = [0, 0, 0, 0, 0, 0, 0,0, 0]\n",
    "        for i in range(len(com)):\n",
    "            f_obs[com[i]] = accuracy\n",
    "            f_obs[8] = accuracy\n",
    "            data_scores.append(f_obs)"
   ]
  },
  {
   "cell_type": "code",
   "execution_count": 17,
   "id": "1582737b",
   "metadata": {},
   "outputs": [],
   "source": [
    "file = open('model_modified.csv', 'w')\n",
    "write = csv.writer(file)\n",
    "for i in range(len(data_scores)):\n",
    "    score = data_scores[i]\n",
    "    write.writerow(map(lambda x: x, score))\n",
    "file.close()"
   ]
  },
  {
   "cell_type": "code",
   "execution_count": 18,
   "id": "b178c535",
   "metadata": {},
   "outputs": [],
   "source": [
    "from pandas import set_option\n",
    "from pandas import read_csv\n",
    "from matplotlib import pyplot as plt"
   ]
  },
  {
   "cell_type": "code",
   "execution_count": 19,
   "id": "8c045c27",
   "metadata": {},
   "outputs": [
    {
     "name": "stdout",
     "output_type": "stream",
     "text": [
      "accuracy    float64\n",
      "dtype: object\n"
     ]
    }
   ],
   "source": [
    "filename = 'model_modified.csv'\n",
    "names = ['accuracy']\n",
    "dataset = read_csv(filename, names=names)\n",
    "print(dataset.dtypes)\n",
    "array = dataset.values"
   ]
  },
  {
   "cell_type": "code",
   "execution_count": 20,
   "id": "0d519ae7",
   "metadata": {},
   "outputs": [
    {
     "name": "stdout",
     "output_type": "stream",
     "text": [
      "[[0.662]\n",
      " [0.662]\n",
      " [0.688]\n",
      " ...\n",
      " [0.773]\n",
      " [0.773]\n",
      " [0.773]]\n"
     ]
    }
   ],
   "source": [
    "print(array)"
   ]
  },
  {
   "cell_type": "code",
   "execution_count": 21,
   "id": "43c558a3",
   "metadata": {},
   "outputs": [
    {
     "data": {
      "text/plain": [
       "array([[<AxesSubplot:title={'center':'accuracy'}>]], dtype=object)"
      ]
     },
     "execution_count": 21,
     "metadata": {},
     "output_type": "execute_result"
    },
    {
     "data": {
      "image/png": "[encoded data removed]",
      "text/plain": [
       "<Figure size 432x288 with 1 Axes>"
      ]
     },
     "metadata": {
      "needs_background": "light"
     },
     "output_type": "display_data"
    }
   ],
   "source": [
    "dataset.hist()"
   ]
  },
  {
   "cell_type": "code",
   "execution_count": 22,
   "id": "8c8f7ef6",
   "metadata": {},
   "outputs": [
    {
     "name": "stdout",
     "output_type": "stream",
     "text": [
      "       accuracy\n",
      "count   6.1e+03\n",
      "mean    7.1e-01\n",
      "std     6.0e-02\n",
      "min     5.3e-01\n",
      "25%     6.6e-01\n",
      "50%     7.1e-01\n",
      "75%     7.7e-01\n",
      "max     8.1e-01\n"
     ]
    }
   ],
   "source": [
    "set_option('precision', 1)\n",
    "print(dataset.describe())\n",
    "plt.show()"
   ]
  }
 ],
 "metadata": {
  "kernelspec": {
   "display_name": "Python 3",
   "language": "python",
   "name": "python3"
  },
  "language_info": {
   "codemirror_mode": {
    "name": "ipython",
    "version": 3
   },
   "file_extension": ".py",
   "mimetype": "text/x-python",
   "name": "python",
   "nbconvert_exporter": "python",
   "pygments_lexer": "ipython3",
   "version": "3.8.8"
  }
 },
 "nbformat": 4,
 "nbformat_minor": 5
}
